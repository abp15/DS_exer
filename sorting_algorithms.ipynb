{
 "cells": [
  {
   "cell_type": "markdown",
   "metadata": {},
   "source": [
    "#### Inserstion Sort (O($n^2$))\n"
   ]
  },
  {
   "cell_type": "code",
   "execution_count": 1,
   "metadata": {},
   "outputs": [],
   "source": [
    "a = [12,3,11,14,5,7,9,4,5]"
   ]
  },
  {
   "cell_type": "code",
   "execution_count": 2,
   "metadata": {},
   "outputs": [],
   "source": [
    "def ins_sort(a):\n",
    "    for i in range(1,len(a)):\n",
    "        for j in range(i-1,-1,-1):\n",
    "            if a[j] > a [j+1]:\n",
    "                a[j], a[j+1] = a[j+1], a[j]\n",
    "            else:\n",
    "                break\n",
    "    return a"
   ]
  },
  {
   "cell_type": "code",
   "execution_count": 3,
   "metadata": {},
   "outputs": [
    {
     "name": "stdout",
     "output_type": "stream",
     "text": [
      "[3, 4, 5, 5, 7, 9, 11, 12, 14]\n"
     ]
    }
   ],
   "source": [
    "b =ins_sort(a)\n",
    "print(b)"
   ]
  },
  {
   "cell_type": "code",
   "execution_count": 4,
   "metadata": {},
   "outputs": [],
   "source": [
    "def ins_sort2(a):\n",
    "    for i in range(1,len(a)):\n",
    "        j = i-1\n",
    "        while a[j] > a [j+1] and j >=0:\n",
    "                a[j], a[j+1] = a[j+1], a[j]\n",
    "    return a"
   ]
  },
  {
   "cell_type": "code",
   "execution_count": 5,
   "metadata": {},
   "outputs": [
    {
     "name": "stdout",
     "output_type": "stream",
     "text": [
      "[3, 4, 5, 5, 7, 9, 11, 12, 14]\n"
     ]
    }
   ],
   "source": [
    "c =ins_sort2(a)\n",
    "print(c)"
   ]
  },
  {
   "cell_type": "code",
   "execution_count": 6,
   "metadata": {},
   "outputs": [],
   "source": [
    "#shifting rather than swapping, more optimal \n",
    "def ins_sort3(a):\n",
    "    for i in range(1,len(a)):\n",
    "        curNum = a[i]\n",
    "        for j in range(i-1,0,-1):\n",
    "            if a[j] > curNum:\n",
    "                a[j+1] = a[j]\n",
    "            else:\n",
    "                j+=1\n",
    "                break\n",
    "            a[j]=curNum\n",
    "    return a"
   ]
  },
  {
   "cell_type": "code",
   "execution_count": 7,
   "metadata": {},
   "outputs": [
    {
     "name": "stdout",
     "output_type": "stream",
     "text": [
      "[3, 4, 5, 5, 7, 9, 11, 12, 14]\n"
     ]
    }
   ],
   "source": [
    "d =ins_sort3(a)\n",
    "print(d)"
   ]
  },
  {
   "cell_type": "markdown",
   "metadata": {},
   "source": [
    "#### Selection sort O($n^2$)"
   ]
  },
  {
   "cell_type": "code",
   "execution_count": 8,
   "metadata": {},
   "outputs": [],
   "source": [
    "def sel_sort(a):\n",
    "    for i in range(0,len(a)-1):\n",
    "        minIndex = i\n",
    "        for j in range(i+1,len(a)):\n",
    "            if a[j] < a [minIndex]:\n",
    "                minIndex = j\n",
    "            if minIndex != i:\n",
    "                a[j], a[minIndex] = a[minIndex], a[j]\n",
    "\n",
    "    return a"
   ]
  },
  {
   "cell_type": "code",
   "execution_count": 9,
   "metadata": {},
   "outputs": [
    {
     "name": "stdout",
     "output_type": "stream",
     "text": [
      "[3, 4, 5, 5, 7, 9, 11, 12, 14]\n"
     ]
    }
   ],
   "source": [
    "e = sel_sort(a)\n",
    "print(e)"
   ]
  },
  {
   "cell_type": "code",
   "execution_count": null,
   "metadata": {},
   "outputs": [],
   "source": []
  },
  {
   "cell_type": "code",
   "execution_count": 10,
   "metadata": {},
   "outputs": [],
   "source": [
    "def bub_sort(a):\n",
    "    for i in range(0,len(a)-1):\n",
    "        for j in range(0,len(a)-1-i):\n",
    "            if a[j] > a [j+1]:\n",
    "                a[j], a[j+1] = a[j+1], a[j]\n",
    "\n",
    "    return a"
   ]
  },
  {
   "cell_type": "code",
   "execution_count": 11,
   "metadata": {},
   "outputs": [
    {
     "name": "stdout",
     "output_type": "stream",
     "text": [
      "[3, 4, 5, 5, 7, 9, 11, 12, 14]\n"
     ]
    }
   ],
   "source": [
    "f =bub_sort(a)\n",
    "print(f)"
   ]
  },
  {
   "cell_type": "code",
   "execution_count": null,
   "metadata": {},
   "outputs": [],
   "source": []
  }
 ],
 "metadata": {
  "kernelspec": {
   "display_name": "Python 3",
   "language": "python",
   "name": "python3"
  },
  "language_info": {
   "codemirror_mode": {
    "name": "ipython",
    "version": 3
   },
   "file_extension": ".py",
   "mimetype": "text/x-python",
   "name": "python",
   "nbconvert_exporter": "python",
   "pygments_lexer": "ipython3",
   "version": "3.7.1"
  }
 },
 "nbformat": 4,
 "nbformat_minor": 2
}
