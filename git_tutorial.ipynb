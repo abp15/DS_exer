{
 "cells": [
  {
   "cell_type": "code",
   "execution_count": 1,
   "metadata": {},
   "outputs": [],
   "source": [
    "##this is performed on terminal\n",
    "##after installation\n",
    "##set up username and password\n",
    "\n",
    "#git config --global user.name \"Abhishek Prakash\"\n",
    "#git config --global user.email \"abp15@pitt.edu\"\n",
    "\n",
    "##Then check it\n",
    "\n",
    "#git config --list\n",
    "\n",
    "##to get help\n",
    "\n",
    "#git config --help\n",
    "#git help config"
   ]
  },
  {
   "cell_type": "code",
   "execution_count": 2,
   "metadata": {},
   "outputs": [],
   "source": [
    "## to start tracking a project \n",
    "\n",
    "# cd DS_exer\n",
    "# git init\n",
    "\n",
    "## the above command will initialize a repository for the DS_exer folder \n",
    "## ls -la will show \".git\" file added to the folder\n",
    "\n",
    "## if we need to stop tracking the project using git, just remove the .git file\n",
    "\n",
    "# rm -rf .git"
   ]
  },
  {
   "cell_type": "code",
   "execution_count": 3,
   "metadata": {},
   "outputs": [],
   "source": [
    "##Now you have a folder being tracked by git but we haven't committed anything\n",
    "## so if you do \n",
    "\n",
    "#git status\n",
    "\n",
    "## it will show all the untracked files\n",
    "## if you want to not commit a specific file or files within the folder, you do\n",
    "\n",
    "# touch .gitignore\n",
    "\n",
    "## this create a simple text file \".gitignore\"\n",
    "##now open the .gitignore file and add all the files that you want to ignore\n",
    "## e.g. I ignored linear_regress_prac.ipynb by addign this in .gitignore\n",
    "## then do \n",
    "\n",
    "#git status \n",
    "\n",
    "## and you will see that linear_regress_prac.ipynb is no longer in the list of untracked files \n",
    "##because git ignored it\n",
    "\n"
   ]
  },
  {
   "cell_type": "code",
   "execution_count": 4,
   "metadata": {},
   "outputs": [],
   "source": [
    "## now add the files to the staging area.\n",
    "## these are the files you want to track\n",
    "## if you want to add .gitignore to the staging area, do\n",
    "\n",
    "#git add .gitignore\n",
    "\n",
    "##if you want to add everything, simply do\n",
    "\n",
    "#git add -A\n",
    "\n",
    "\n",
    "## if you want to remove files from staging area, then do\n",
    "\n",
    "# git reset filename\n",
    "\n",
    "\n",
    "## if you want to remove everything, simply do\n",
    "\n",
    "#git reset"
   ]
  },
  {
   "cell_type": "code",
   "execution_count": 5,
   "metadata": {},
   "outputs": [],
   "source": [
    "## now commit all the files added to the staging area using\n",
    "\n",
    "# git commit -m \"Initial commit\"\n",
    "\n",
    "## message are important to track changes\n",
    "## check with git status and it will show all the files added or not added \n",
    "## To check all the commits, use log function\n",
    "\n",
    "# git log\n"
   ]
  },
  {
   "cell_type": "markdown",
   "metadata": {},
   "source": [
    "### 2nd case colning an existing remote repository and working with that"
   ]
  },
  {
   "cell_type": "code",
   "execution_count": 6,
   "metadata": {},
   "outputs": [],
   "source": [
    "## first make a clone of the remote repository using\n",
    "\n",
    "#git clone <url> <copy directory>\n",
    "\n",
    "## to view information about the remote repository\n",
    "\n",
    "#git remote -v\n",
    "#git branch -a"
   ]
  },
  {
   "cell_type": "code",
   "execution_count": 7,
   "metadata": {},
   "outputs": [],
   "source": [
    "## if you make a change to a file in the cloned repository\n",
    "\n",
    "#git diff\n",
    "##This will show all the changes that have been made\n",
    "##then again add the files to staging area and commit with the message explaining the changes\n",
    "\n",
    "#git add -A\n",
    "#git commit -m \"Changes\"\n",
    "\n",
    "##to update the remote repository, first pull the original again\n",
    "\n",
    "#git pull origin master\n",
    "\n",
    "#git push origin master"
   ]
  },
  {
   "cell_type": "markdown",
   "metadata": {},
   "source": [
    "## till now working on master branch which is a bad idea generally\n"
   ]
  },
  {
   "cell_type": "code",
   "execution_count": 8,
   "metadata": {},
   "outputs": [],
   "source": [
    "##Create a branch on things you would like to work\n",
    "\n",
    "#git branch new_exer\n",
    "#git branch\n",
    "\n",
    "## the last command will show you the branch that you just created and teh '*' sign next it it shows which branch \n",
    "## you are working on. to switch to new_exer, do check-out\n",
    "\n",
    "# git checkout new_exer\n",
    "\n",
    "## now if you do \"git branch\" you will see the \"*\" next to the new_exer branch.\n",
    "## now do the changes that you need to do and if you do\n",
    "\n",
    "#git status\n",
    "\n",
    "## you will see the file in which modification has been made. Go ahead add it to staging area and commit.\n",
    "\n",
    "# git add -A\n",
    "#git commit -m \"git tutorial update\"\n",
    "\n",
    "## this won't have any effect on master branch and remote repository"
   ]
  },
  {
   "cell_type": "code",
   "execution_count": 9,
   "metadata": {},
   "outputs": [],
   "source": [
    "##to push the changes to remote repository\n",
    "\n",
    "# git push -u origin new_exer\n",
    "\n",
    "## you should run all the test to to make sure everything is okay\n",
    "##now to merge all the changes to master, first pull and checkout the master\n",
    "\n",
    "#git checkout master\n",
    "\n",
    "##First check if something has been merged by \n",
    "\n",
    "#git branch --merged\n",
    "\n",
    "## if nothing has been merged you will see just master.\n",
    "## now we can merge new_exer withe master\n",
    "\n",
    "# git merge new_exer\n",
    "\n",
    "## now delete the branch since you have merged it with master\n",
    "## if you had pushed the branch in the remote repository as well, the above command only deletes the local branch\n",
    "## to delete the remote branch as well, do\n",
    "\n",
    "#git push origin --delete new_exer\n"
   ]
  },
  {
   "cell_type": "code",
   "execution_count": null,
   "metadata": {},
   "outputs": [],
   "source": []
  }
 ],
 "metadata": {
  "kernelspec": {
   "display_name": "Python 3",
   "language": "python",
   "name": "python3"
  },
  "language_info": {
   "codemirror_mode": {
    "name": "ipython",
    "version": 3
   },
   "file_extension": ".py",
   "mimetype": "text/x-python",
   "name": "python",
   "nbconvert_exporter": "python",
   "pygments_lexer": "ipython3",
   "version": "3.7.4"
  }
 },
 "nbformat": 4,
 "nbformat_minor": 2
}
