{
 "cells": [
  {
   "cell_type": "code",
   "execution_count": 1,
   "metadata": {},
   "outputs": [],
   "source": [
    "##this is performed on terminal\n",
    "##after installation\n",
    "##set up username and password\n",
    "\n",
    "#git config --global user.name \"Abhishek Prakash\"\n",
    "#git config --global user.email \"abp15@pitt.edu\"\n",
    "\n",
    "##Then check it\n",
    "\n",
    "#git config --list\n",
    "\n",
    "##to get help\n",
    "\n",
    "#git config --help\n",
    "#git help config"
   ]
  },
  {
   "cell_type": "code",
   "execution_count": 2,
   "metadata": {},
   "outputs": [],
   "source": [
    "## to start tracking a project \n",
    "\n",
    "# cd DS_exer\n",
    "# git init\n",
    "\n",
    "## the above command will initialize a repository for the DS_exer folder \n",
    "## ls -la will show \".git\" file added to the folder\n",
    "\n",
    "## if we need to stop tracking the project using git, just remove the .git file\n",
    "\n",
    "# rm -rf .git"
   ]
  },
  {
   "cell_type": "code",
   "execution_count": 3,
   "metadata": {},
   "outputs": [],
   "source": [
    "##Now you have a folder being tracked by git but we haven't committed anything\n",
    "## so if you do \n",
    "\n",
    "#git status\n",
    "\n",
    "## it will show all the untracked files\n",
    "## if you want to not commit a specific file or files within the folder, you do\n",
    "\n",
    "# touch .gitignore\n",
    "\n",
    "## this create a simple text file \".gitignore\"\n",
    "##now open the .gitignore file and add all the files that you want to ignore\n",
    "## e.g. I ignored linear_regress_prac.ipynb by addign this in .gitignore\n",
    "## then do \n",
    "\n",
    "#git status \n",
    "\n",
    "## and you will see that linear_regress_prac.ipynb is no longer in the list of untracked files \n",
    "##because git ignored it\n",
    "\n"
   ]
  },
  {
   "cell_type": "code",
   "execution_count": null,
   "metadata": {},
   "outputs": [],
   "source": [
    "## now add the files to the staging area.\n",
    "## these are the files you want to track\n",
    "## if you want to add .gitignore to the staging area, do\n",
    "\n",
    "#git add .gitignore\n",
    "\n",
    "##if you want to add everything, simply do\n",
    "\n",
    "#git add -A"
   ]
  }
 ],
 "metadata": {
  "kernelspec": {
   "display_name": "Python 3",
   "language": "python",
   "name": "python3"
  },
  "language_info": {
   "codemirror_mode": {
    "name": "ipython",
    "version": 3
   },
   "file_extension": ".py",
   "mimetype": "text/x-python",
   "name": "python",
   "nbconvert_exporter": "python",
   "pygments_lexer": "ipython3",
   "version": "3.7.4"
  }
 },
 "nbformat": 4,
 "nbformat_minor": 2
}
