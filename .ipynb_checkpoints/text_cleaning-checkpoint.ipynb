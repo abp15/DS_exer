{
 "cells": [
  {
   "cell_type": "code",
   "execution_count": 4,
   "metadata": {},
   "outputs": [],
   "source": [
    "text = \"Hi! How are you? 😀\" #with emoji\n",
    "preprocessed_text = text.encode('ascii','ignore').decode('ascii') #with no emoji"
   ]
  },
  {
   "cell_type": "code",
   "execution_count": 5,
   "metadata": {},
   "outputs": [
    {
     "name": "stdout",
     "output_type": "stream",
     "text": [
      "Hi! How are you? 😀\n",
      "Hi! How are you? \n"
     ]
    }
   ],
   "source": [
    "print(text)\n",
    "print(preprocessed_text)"
   ]
  },
  {
   "cell_type": "code",
   "execution_count": 3,
   "metadata": {},
   "outputs": [
    {
     "name": "stdout",
     "output_type": "stream",
     "text": [
      "😀\n"
     ]
    }
   ],
   "source": [
    "# grinning face \n",
    "print(\"\\N{grinning face}\") "
   ]
  },
  {
   "cell_type": "code",
   "execution_count": 7,
   "metadata": {},
   "outputs": [
    {
     "name": "stdout",
     "output_type": "stream",
     "text": [
      "Counter({'b': 3, 'c': 2, 'd': 2, 'a': 1})\n"
     ]
    }
   ],
   "source": [
    "from collections import Counter\n",
    "count = Counter(['a','b','c','d','b','c','d','b'])\n",
    "print(count) # Counter({'b': 3, 'c': 2, 'd': 2, 'a': 1})"
   ]
  },
  {
   "cell_type": "code",
   "execution_count": 10,
   "metadata": {},
   "outputs": [
    {
     "name": "stdout",
     "output_type": "stream",
     "text": [
      "Counter({1: 5, 3: 2, 2: 1})\n"
     ]
    }
   ],
   "source": [
    "count = Counter([1,1,1,3,3,2,1,1])\n",
    "print(count) # Counter({'b': 3, 'c': 2, 'd': 2, 'a': 1})"
   ]
  },
  {
   "cell_type": "code",
   "execution_count": 9,
   "metadata": {},
   "outputs": [
    {
     "name": "stdout",
     "output_type": "stream",
     "text": [
      "{'Peter': 84, 'Julia': 65, 'Alex': 77}\n"
     ]
    }
   ],
   "source": [
    "#Convert Two Lists Into a Dictionary\n",
    "students = [\"Peter\", \"Julia\", \"Alex\"]\n",
    "marks = [84, 65, 77]\n",
    "dictionary = dict(zip(students, marks))\n",
    "print(dictionary) # {'Peter': 84, 'Julia': 65, 'Alex': 77}"
   ]
  },
  {
   "cell_type": "code",
   "execution_count": 13,
   "metadata": {},
   "outputs": [],
   "source": [
    "distance_j0301 = 1566.4e6 ##pc\n",
    "resolution = 0.1 ##arcsec\n",
    "res_rad = 4.848e-7 ## (arcsec to rad = np.pi/(180*3600))\n",
    "s = res_rad*(1/3600)*1566.4e6"
   ]
  },
  {
   "cell_type": "code",
   "execution_count": 14,
   "metadata": {},
   "outputs": [
    {
     "name": "stdout",
     "output_type": "stream",
     "text": [
      "0.21094186666666667\n"
     ]
    }
   ],
   "source": [
    "print(s)"
   ]
  },
  {
   "cell_type": "code",
   "execution_count": null,
   "metadata": {},
   "outputs": [],
   "source": []
  }
 ],
 "metadata": {
  "kernelspec": {
   "display_name": "Python 3",
   "language": "python",
   "name": "python3"
  },
  "language_info": {
   "codemirror_mode": {
    "name": "ipython",
    "version": 3
   },
   "file_extension": ".py",
   "mimetype": "text/x-python",
   "name": "python",
   "nbconvert_exporter": "python",
   "pygments_lexer": "ipython3",
   "version": "3.7.4"
  }
 },
 "nbformat": 4,
 "nbformat_minor": 2
}
