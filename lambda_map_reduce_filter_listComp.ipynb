{
 "cells": [
  {
   "cell_type": "code",
   "execution_count": 1,
   "metadata": {},
   "outputs": [],
   "source": [
    "#lambda, map, reduce, and filter functions"
   ]
  },
  {
   "cell_type": "code",
   "execution_count": 2,
   "metadata": {},
   "outputs": [],
   "source": [
    "#lambda functions don't use def or return\n",
    "\n",
    "max_xy = lambda x,y: x if x>y else y\n"
   ]
  },
  {
   "cell_type": "code",
   "execution_count": 3,
   "metadata": {},
   "outputs": [
    {
     "name": "stdout",
     "output_type": "stream",
     "text": [
      "3\n"
     ]
    }
   ],
   "source": [
    "x = 3\n",
    "y = 2\n",
    "print(max_xy(x,y))"
   ]
  },
  {
   "cell_type": "code",
   "execution_count": 4,
   "metadata": {},
   "outputs": [
    {
     "name": "stdout",
     "output_type": "stream",
     "text": [
      "[6, 5, 4, 4, 5, 6]\n",
      "[0, 1, 4, 9, 16, 25, 36, 49, 64, 81]\n"
     ]
    }
   ],
   "source": [
    "#Map function: Apply a function to each element of a list then return the list.\n",
    "a =[1,2,3,4,5,6]\n",
    "b =[6,5,4,3,2,1]\n",
    "\n",
    "c= list(map(max_xy,a,b))\n",
    "print(c)\n",
    "\n",
    "#alternatively\n",
    "\n",
    "d = list(map(lambda x: x**2, range(10)))\n",
    "print(d)"
   ]
  },
  {
   "cell_type": "code",
   "execution_count": 5,
   "metadata": {},
   "outputs": [
    {
     "name": "stdout",
     "output_type": "stream",
     "text": [
      "[6, 5, 4, 3]\n"
     ]
    }
   ],
   "source": [
    "# Filter function filters a list  \n",
    "e = list(filter(lambda x:x>2, b))\n",
    "print(e)"
   ]
  },
  {
   "cell_type": "code",
   "execution_count": 6,
   "metadata": {},
   "outputs": [
    {
     "name": "stdout",
     "output_type": "stream",
     "text": [
      "5\n",
      "18\n"
     ]
    }
   ],
   "source": [
    "#Reduce function applies the same fucntion to all the elements of a list in sequence \n",
    "import functools \n",
    "f_1 = list([3,4,5])\n",
    "f = functools.reduce(max_xy,f_1)\n",
    "print(f)\n",
    "g = functools.reduce(lambda x,y: x+y,[3,4,5,6])\n",
    "print(g)"
   ]
  },
  {
   "cell_type": "code",
   "execution_count": 7,
   "metadata": {},
   "outputs": [
    {
     "name": "stdout",
     "output_type": "stream",
     "text": [
      "under_10:[0, 1, 2, 3, 4, 5, 6, 7, 8, 9]\n",
      "Square:[0, 1, 4, 9, 16, 25, 36, 49, 64, 81]\n"
     ]
    }
   ],
   "source": [
    "# List comprehension\n",
    "#basic format: New_list = [Transform Sequence [filter]]\n",
    "under_10 = [x for x in range(10)]\n",
    "print('under_10:'+ str(under_10))\n",
    "\n",
    "squares = [x**2 for x in range(10)]\n",
    "print('Square:'+ str(squares))\n"
   ]
  },
  {
   "cell_type": "code",
   "execution_count": 8,
   "metadata": {},
   "outputs": [
    {
     "name": "stdout",
     "output_type": "stream",
     "text": [
      "Odd numbers:[1, 3, 5, 7, 9]\n"
     ]
    }
   ],
   "source": [
    "odds = [x for x in range(10) if x%2 != 0]\n",
    "print('Odd numbers:'+ str(odds))\n"
   ]
  },
  {
   "cell_type": "code",
   "execution_count": 9,
   "metadata": {},
   "outputs": [
    {
     "name": "stdout",
     "output_type": "stream",
     "text": [
      "ihba\n"
     ]
    }
   ],
   "source": [
    "a = 'abhi'\n",
    "print(a[::-1])"
   ]
  },
  {
   "cell_type": "code",
   "execution_count": 10,
   "metadata": {},
   "outputs": [
    {
     "name": "stdout",
     "output_type": "stream",
     "text": [
      "['2', '0', '7', '3']\n",
      "nums: 2073\n"
     ]
    }
   ],
   "source": [
    "#getting numbers from a string\n",
    "a_str = 'I love 2 go t0 the store 7 times a w3ek'\n",
    "s = [s for s in a_str if s.isnumeric()]\n",
    "print(s)\n",
    "print('nums:',''.join(s))"
   ]
  },
  {
   "cell_type": "code",
   "execution_count": 11,
   "metadata": {},
   "outputs": [
    {
     "name": "stdout",
     "output_type": "stream",
     "text": [
      "[2]\n"
     ]
    }
   ],
   "source": [
    "names = ['Abhi', 'Jon', 'Anu', 'Adrian', 'Aakash']\n",
    "idx = [k for k,x in enumerate(names) if x == 'Anu']\n",
    "print(idx)"
   ]
  },
  {
   "cell_type": "code",
   "execution_count": 12,
   "metadata": {},
   "outputs": [
    {
     "name": "stdout",
     "output_type": "stream",
     "text": [
      "['B', 'D', 'A', 'F', 'E']\n"
     ]
    }
   ],
   "source": [
    "import random\n",
    "\n",
    "letters = [s for s in 'ABCDEF']\n",
    "random.shuffle(letters)\n",
    "letrs = [s for s in letters if s != 'C']\n",
    "print(letrs)"
   ]
  },
  {
   "cell_type": "code",
   "execution_count": 13,
   "metadata": {},
   "outputs": [
    {
     "name": "stdout",
     "output_type": "stream",
     "text": [
      "[50, 6, 4, 30, 450, 90]\n"
     ]
    }
   ],
   "source": [
    "## If you have to use ELSE as well then the trick is to put it before for in list comprehension\n",
    "nums = [5,6,4,3,45,90]\n",
    "new_nums = [x if x%2 ==0 else x*10 for x in nums]\n",
    "print(new_nums)"
   ]
  },
  {
   "cell_type": "code",
   "execution_count": 14,
   "metadata": {},
   "outputs": [
    {
     "name": "stdout",
     "output_type": "stream",
     "text": [
      "[1, 2, 3, 4, 5]\n"
     ]
    }
   ],
   "source": [
    "## nested loop comprehension\n",
    "a = [[1,2,3],[4,5]]\n",
    "a_new = [x for b in a for x in b]\n",
    "print(a_new)"
   ]
  },
  {
   "cell_type": "code",
   "execution_count": null,
   "metadata": {},
   "outputs": [],
   "source": []
  }
 ],
 "metadata": {
  "kernelspec": {
   "display_name": "Python 3",
   "language": "python",
   "name": "python3"
  },
  "language_info": {
   "codemirror_mode": {
    "name": "ipython",
    "version": 3
   },
   "file_extension": ".py",
   "mimetype": "text/x-python",
   "name": "python",
   "nbconvert_exporter": "python",
   "pygments_lexer": "ipython3",
   "version": "3.7.4"
  }
 },
 "nbformat": 4,
 "nbformat_minor": 2
}
