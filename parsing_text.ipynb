{
 "cells": [
  {
   "cell_type": "code",
   "execution_count": 1,
   "metadata": {},
   "outputs": [
    {
     "name": "stdout",
     "output_type": "stream",
     "text": [
      "{'google.mail.com': 1800, 'mail.com': 901, 'com': 951, 'yahoo.com': 100, 'intel.mail.com': 2, 'wiki.org': 10, 'org': 5}\n"
     ]
    }
   ],
   "source": [
    "#  Input:\n",
    "input_list = [\"900 google.mail.com\", \"50 yahoo.com\", \"1 intel.mail.com\", \"5 wiki.org\"]\n",
    "# Output:\n",
    "# [\"901 mail.com\",\"50 yahoo.com\",\"900 google.mail.com\",\"5 wiki.org\",\"5 org\",\"1 intel.mail.com\",\"951 com\"]\n",
    "\n",
    "dict = {}\n",
    "\n",
    "for i in range(len(input_list)):\n",
    "    count = int(input_list[i].split(' ')[0])\n",
    "    tot_domain = input_list[i].split(' ')[1]\n",
    "    total_sub_domain= tot_domain.split('.')\n",
    "   \n",
    "    dict[tot_domain] = count\n",
    "    if tot_domain in dict:\n",
    "        dict[tot_domain] += count\n",
    "    else:\n",
    "        dict[tot_domain] = count\n",
    "\n",
    "    for k in range(1, len(total_sub_domain)):\n",
    "        tot_min_domain = total_sub_domain[k:]\n",
    "        new_sub_domain = \".\".join(tot_min_domain)\n",
    "        if new_sub_domain in dict:\n",
    "            dict[new_sub_domain] += count\n",
    "        else:\n",
    "            dict[new_sub_domain] = count\n",
    "           \n",
    "print(dict)\n",
    "\n"
   ]
  },
  {
   "cell_type": "code",
   "execution_count": null,
   "metadata": {},
   "outputs": [],
   "source": []
  }
 ],
 "metadata": {
  "kernelspec": {
   "display_name": "Python 3",
   "language": "python",
   "name": "python3"
  },
  "language_info": {
   "codemirror_mode": {
    "name": "ipython",
    "version": 3
   },
   "file_extension": ".py",
   "mimetype": "text/x-python",
   "name": "python",
   "nbconvert_exporter": "python",
   "pygments_lexer": "ipython3",
   "version": "3.7.1"
  }
 },
 "nbformat": 4,
 "nbformat_minor": 2
}
