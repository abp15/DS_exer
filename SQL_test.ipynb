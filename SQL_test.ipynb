{
 "cells": [
  {
   "cell_type": "code",
   "execution_count": 1,
   "metadata": {},
   "outputs": [],
   "source": [
    "%load_ext sql"
   ]
  },
  {
   "cell_type": "code",
   "execution_count": 2,
   "metadata": {},
   "outputs": [
    {
     "data": {
      "text/plain": [
       "'Connected: @None'"
      ]
     },
     "execution_count": 2,
     "metadata": {},
     "output_type": "execute_result"
    }
   ],
   "source": [
    "%sql sqlite://"
   ]
  },
  {
   "cell_type": "code",
   "execution_count": 3,
   "metadata": {},
   "outputs": [
    {
     "name": "stdout",
     "output_type": "stream",
     "text": [
      " * sqlite://\n",
      "Done.\n"
     ]
    },
    {
     "data": {
      "text/plain": [
       "[]"
      ]
     },
     "execution_count": 3,
     "metadata": {},
     "output_type": "execute_result"
    }
   ],
   "source": [
    "%%sql\n",
    "\n",
    "CREATE TABLE stock_portfolio (\n",
    "security_name varchar(100),\n",
    "amount_usd float,\n",
    "ytd_performance float);"
   ]
  },
  {
   "cell_type": "code",
   "execution_count": 4,
   "metadata": {},
   "outputs": [
    {
     "name": "stdout",
     "output_type": "stream",
     "text": [
      " * sqlite://\n",
      "1 rows affected.\n",
      "1 rows affected.\n",
      "1 rows affected.\n",
      "1 rows affected.\n",
      "1 rows affected.\n",
      "1 rows affected.\n",
      "1 rows affected.\n",
      "1 rows affected.\n",
      "1 rows affected.\n",
      "1 rows affected.\n"
     ]
    },
    {
     "data": {
      "text/plain": [
       "[]"
      ]
     },
     "execution_count": 4,
     "metadata": {},
     "output_type": "execute_result"
    }
   ],
   "source": [
    "%%sql\n",
    "INSERT INTO stock_portfolio VALUES ('alpha',100,12000);\n",
    "INSERT INTO stock_portfolio VALUES('beta',200,15000);\n",
    "INSERT INTO stock_portfolio VALUES(NULL,100,14000);\n",
    "INSERT INTO stock_portfolio VALUES('gamma',300,12000);\n",
    "INSERT INTO stock_portfolio VALUES(NULL,250,11000);\n",
    "INSERT INTO stock_portfolio VALUES('exes',450,10000);\n",
    "INSERT INTO stock_portfolio VALUES('bp',150,5000);\n",
    "INSERT INTO stock_portfolio VALUES('hp',175,6000);\n",
    "INSERT INTO stock_portfolio VALUES('ep',275,9000);\n",
    "INSERT INTO stock_portfolio VALUES('ap',175,8000);"
   ]
  },
  {
   "cell_type": "code",
   "execution_count": 5,
   "metadata": {},
   "outputs": [
    {
     "name": "stdout",
     "output_type": "stream",
     "text": [
      " * sqlite://\n",
      "Done.\n"
     ]
    },
    {
     "data": {
      "text/html": [
       "<table>\n",
       "    <tr>\n",
       "        <th>security_name</th>\n",
       "        <th>amount_usd</th>\n",
       "        <th>ytd_performance</th>\n",
       "    </tr>\n",
       "    <tr>\n",
       "        <td>alpha</td>\n",
       "        <td>100.0</td>\n",
       "        <td>12000.0</td>\n",
       "    </tr>\n",
       "    <tr>\n",
       "        <td>beta</td>\n",
       "        <td>200.0</td>\n",
       "        <td>15000.0</td>\n",
       "    </tr>\n",
       "    <tr>\n",
       "        <td>None</td>\n",
       "        <td>100.0</td>\n",
       "        <td>14000.0</td>\n",
       "    </tr>\n",
       "    <tr>\n",
       "        <td>gamma</td>\n",
       "        <td>300.0</td>\n",
       "        <td>12000.0</td>\n",
       "    </tr>\n",
       "    <tr>\n",
       "        <td>None</td>\n",
       "        <td>250.0</td>\n",
       "        <td>11000.0</td>\n",
       "    </tr>\n",
       "    <tr>\n",
       "        <td>exes</td>\n",
       "        <td>450.0</td>\n",
       "        <td>10000.0</td>\n",
       "    </tr>\n",
       "    <tr>\n",
       "        <td>bp</td>\n",
       "        <td>150.0</td>\n",
       "        <td>5000.0</td>\n",
       "    </tr>\n",
       "    <tr>\n",
       "        <td>hp</td>\n",
       "        <td>175.0</td>\n",
       "        <td>6000.0</td>\n",
       "    </tr>\n",
       "    <tr>\n",
       "        <td>ep</td>\n",
       "        <td>275.0</td>\n",
       "        <td>9000.0</td>\n",
       "    </tr>\n",
       "    <tr>\n",
       "        <td>ap</td>\n",
       "        <td>175.0</td>\n",
       "        <td>8000.0</td>\n",
       "    </tr>\n",
       "</table>"
      ],
      "text/plain": [
       "[('alpha', 100.0, 12000.0),\n",
       " ('beta', 200.0, 15000.0),\n",
       " (None, 100.0, 14000.0),\n",
       " ('gamma', 300.0, 12000.0),\n",
       " (None, 250.0, 11000.0),\n",
       " ('exes', 450.0, 10000.0),\n",
       " ('bp', 150.0, 5000.0),\n",
       " ('hp', 175.0, 6000.0),\n",
       " ('ep', 275.0, 9000.0),\n",
       " ('ap', 175.0, 8000.0)]"
      ]
     },
     "execution_count": 5,
     "metadata": {},
     "output_type": "execute_result"
    }
   ],
   "source": [
    "%%sql\n",
    "SELECT * FROM stock_portfolio"
   ]
  },
  {
   "cell_type": "code",
   "execution_count": 6,
   "metadata": {},
   "outputs": [
    {
     "name": "stdout",
     "output_type": "stream",
     "text": [
      " * sqlite://\n",
      "Done.\n"
     ]
    },
    {
     "data": {
      "text/html": [
       "<table>\n",
       "    <tr>\n",
       "        <th>security_name</th>\n",
       "        <th>ytd_performance</th>\n",
       "        <th>percentages</th>\n",
       "    </tr>\n",
       "    <tr>\n",
       "        <td>beta</td>\n",
       "        <td>15000.0</td>\n",
       "        <td>14.705882352941176</td>\n",
       "    </tr>\n",
       "    <tr>\n",
       "        <td>alpha</td>\n",
       "        <td>12000.0</td>\n",
       "        <td>11.764705882352942</td>\n",
       "    </tr>\n",
       "    <tr>\n",
       "        <td>gamma</td>\n",
       "        <td>12000.0</td>\n",
       "        <td>11.764705882352942</td>\n",
       "    </tr>\n",
       "    <tr>\n",
       "        <td>exes</td>\n",
       "        <td>10000.0</td>\n",
       "        <td>9.803921568627452</td>\n",
       "    </tr>\n",
       "    <tr>\n",
       "        <td>ep</td>\n",
       "        <td>9000.0</td>\n",
       "        <td>8.823529411764707</td>\n",
       "    </tr>\n",
       "    <tr>\n",
       "        <td>ap</td>\n",
       "        <td>8000.0</td>\n",
       "        <td>7.8431372549019605</td>\n",
       "    </tr>\n",
       "    <tr>\n",
       "        <td>hp</td>\n",
       "        <td>6000.0</td>\n",
       "        <td>5.882352941176471</td>\n",
       "    </tr>\n",
       "    <tr>\n",
       "        <td>bp</td>\n",
       "        <td>5000.0</td>\n",
       "        <td>4.901960784313726</td>\n",
       "    </tr>\n",
       "</table>"
      ],
      "text/plain": [
       "[('beta', 15000.0, 14.705882352941176),\n",
       " ('alpha', 12000.0, 11.764705882352942),\n",
       " ('gamma', 12000.0, 11.764705882352942),\n",
       " ('exes', 10000.0, 9.803921568627452),\n",
       " ('ep', 9000.0, 8.823529411764707),\n",
       " ('ap', 8000.0, 7.8431372549019605),\n",
       " ('hp', 6000.0, 5.882352941176471),\n",
       " ('bp', 5000.0, 4.901960784313726)]"
      ]
     },
     "execution_count": 6,
     "metadata": {},
     "output_type": "execute_result"
    }
   ],
   "source": [
    "%%sql\n",
    "SELECT security_name, ytd_performance, ytd_performance*100/(Select SUM(ytd_performance) From stock_portfolio) as percentages\n",
    "FROM stock_portfolio\n",
    "WHERE security_name IS NOT NULL\n",
    "ORDER BY percentages DESC"
   ]
  },
  {
   "cell_type": "code",
   "execution_count": null,
   "metadata": {},
   "outputs": [],
   "source": []
  }
 ],
 "metadata": {
  "kernelspec": {
   "display_name": "Python 3",
   "language": "python",
   "name": "python3"
  },
  "language_info": {
   "codemirror_mode": {
    "name": "ipython",
    "version": 3
   },
   "file_extension": ".py",
   "mimetype": "text/x-python",
   "name": "python",
   "nbconvert_exporter": "python",
   "pygments_lexer": "ipython3",
   "version": "3.7.4"
  }
 },
 "nbformat": 4,
 "nbformat_minor": 2
}
