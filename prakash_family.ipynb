{
 "cells": [
  {
   "cell_type": "code",
   "execution_count": 5,
   "metadata": {},
   "outputs": [],
   "source": [
    "class prakash_family:\n",
    "    \n",
    "    def __init__(self, first, last, age, sex, salary):\n",
    "        self.first = first\n",
    "        self.last  = last\n",
    "        self.age   = age\n",
    "        self.sex   = sex\n",
    "        self.salary= salary\n",
    "        self.email = first +\".\"+last+\"@prakash_family.com\"\n",
    "    \n",
    "    def full_name(self):\n",
    "        return self.first+\" \"+ self.last\n",
    "class head_family(prakash_family):\n",
    "    def __init__(self, first, last, age, sex, salary, children = None):\n",
    "        super().__init__(first, last, age, sex, salary)\n",
    "        if children is None:\n",
    "            self.children = []\n",
    "        else:\n",
    "            self.children = children\n",
    "    "
   ]
  },
  {
   "cell_type": "code",
   "execution_count": 3,
   "metadata": {},
   "outputs": [],
   "source": [
    "mem_1 = prakash_family('Abhi','Prakash', 34, 'M', 60000)\n",
    "mem_2 = prakash_family('Leigh','Prakash', 25, 'F', 80000)"
   ]
  },
  {
   "cell_type": "code",
   "execution_count": 4,
   "metadata": {},
   "outputs": [
    {
     "data": {
      "text/plain": [
       "'Abhi Prakash'"
      ]
     },
     "execution_count": 4,
     "metadata": {},
     "output_type": "execute_result"
    }
   ],
   "source": [
    "mem_1.full_name()"
   ]
  },
  {
   "cell_type": "code",
   "execution_count": 6,
   "metadata": {},
   "outputs": [],
   "source": [
    "head_1 = head_family('Abhi','Prakash', 34, 'M', 60000, 'Aakash')"
   ]
  },
  {
   "cell_type": "code",
   "execution_count": 8,
   "metadata": {},
   "outputs": [
    {
     "data": {
      "text/plain": [
       "{'first': 'Abhi',\n",
       " 'last': 'Prakash',\n",
       " 'age': 34,\n",
       " 'sex': 'M',\n",
       " 'salary': 60000,\n",
       " 'email': 'Abhi.Prakash@prakash_family.com',\n",
       " 'children': 'Aakash'}"
      ]
     },
     "execution_count": 8,
     "metadata": {},
     "output_type": "execute_result"
    }
   ],
   "source": [
    "head_1.__dict__"
   ]
  },
  {
   "cell_type": "code",
   "execution_count": null,
   "metadata": {},
   "outputs": [],
   "source": []
  }
 ],
 "metadata": {
  "kernelspec": {
   "display_name": "Python 3",
   "language": "python",
   "name": "python3"
  },
  "language_info": {
   "codemirror_mode": {
    "name": "ipython",
    "version": 3
   },
   "file_extension": ".py",
   "mimetype": "text/x-python",
   "name": "python",
   "nbconvert_exporter": "python",
   "pygments_lexer": "ipython3",
   "version": "3.7.1"
  }
 },
 "nbformat": 4,
 "nbformat_minor": 2
}
