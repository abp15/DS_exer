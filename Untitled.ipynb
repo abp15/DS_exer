{
 "cells": [
  {
   "cell_type": "code",
   "execution_count": 1,
   "metadata": {},
   "outputs": [],
   "source": [
    "%matplotlib inline \n",
    "from astropy.table import Table\n",
    "from astropy.table import QTable\n",
    "from astropy.io import fits as pf\n",
    "import pylab as p \n",
    "import numpy as np\n",
    "import matplotlib\n",
    "import matplotlib.pyplot as plt\n",
    "from matplotlib import cm\n",
    "from scipy.stats import chisquare\n",
    "\n",
    "from astropy.wcs import WCS\n",
    "from astropy import units as u\n",
    "from astropy.coordinates import SkyCoord\n",
    "from photutils import SkyCircularAperture\n",
    "from photutils import CircularAperture\n",
    "from photutils import SkyCircularAnnulus\n",
    "from astropy.coordinates import ICRS, Galactic, FK4, FK5  # Low-level frames\n",
    "\n",
    "from photutils import aperture_photometry\n",
    "from photutils.utils import calc_total_error\n",
    "from astropy.table import hstack\n",
    "from astropy.table import vstack\n",
    "from astropy.table import Column\n",
    "from astropy.io import ascii\n",
    "from astropy.io.fits.card import Undefined\n",
    "from astropy.io.fits.card import UNDEFINED\n",
    "from astropy.stats import sigma_clip\n",
    "\n",
    "import os\n",
    "import PTF_photometry_abhi as myPTF\n",
    "import WISE_photometry_abhi as myWISE"
   ]
  },
  {
   "cell_type": "code",
   "execution_count": 2,
   "metadata": {},
   "outputs": [],
   "source": [
    "#import pyspark"
   ]
  },
  {
   "cell_type": "code",
   "execution_count": 6,
   "metadata": {},
   "outputs": [],
   "source": [
    "a = 'Abhi is an astrophysicist , astrophysicist study universe'\n",
    "b = a.split(\" \")"
   ]
  },
  {
   "cell_type": "code",
   "execution_count": 7,
   "metadata": {},
   "outputs": [
    {
     "name": "stdout",
     "output_type": "stream",
     "text": [
      "['Abhi', 'is', 'an', 'astrophysicist', ',', 'astrophysicist', 'study', 'universe']\n"
     ]
    }
   ],
   "source": [
    "print(b)"
   ]
  },
  {
   "cell_type": "code",
   "execution_count": 11,
   "metadata": {},
   "outputs": [
    {
     "name": "stdout",
     "output_type": "stream",
     "text": [
      "ihbA si na tsicisyhportsa , tsicisyhportsa yduts esrevinu\n"
     ]
    }
   ],
   "source": [
    "c = ' '.join(list(map(lambda x:x[::-1], b)))\n",
    "print(c)"
   ]
  },
  {
   "cell_type": "code",
   "execution_count": 13,
   "metadata": {},
   "outputs": [
    {
     "name": "stdout",
     "output_type": "stream",
     "text": [
      "ihbA si na tsicisyhportsa , tsicisyhportsa yduts esrevinu\n"
     ]
    }
   ],
   "source": [
    "e = ' '.join([x[::-1] for x in b])\n",
    "print(e)"
   ]
  },
  {
   "cell_type": "code",
   "execution_count": 14,
   "metadata": {},
   "outputs": [
    {
     "name": "stdout",
     "output_type": "stream",
     "text": [
      "[4, 5]\n"
     ]
    }
   ],
   "source": [
    "s =[1,2,3,4,5]\n",
    "print(s[-2:])"
   ]
  },
  {
   "cell_type": "code",
   "execution_count": null,
   "metadata": {},
   "outputs": [],
   "source": []
  }
 ],
 "metadata": {
  "kernelspec": {
   "display_name": "Python 3",
   "language": "python",
   "name": "python3"
  },
  "language_info": {
   "codemirror_mode": {
    "name": "ipython",
    "version": 3
   },
   "file_extension": ".py",
   "mimetype": "text/x-python",
   "name": "python",
   "nbconvert_exporter": "python",
   "pygments_lexer": "ipython3",
   "version": "3.7.4"
  }
 },
 "nbformat": 4,
 "nbformat_minor": 2
}
