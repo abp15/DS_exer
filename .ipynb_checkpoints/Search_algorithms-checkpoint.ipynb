{
 "cells": [
  {
   "cell_type": "code",
   "execution_count": 1,
   "metadata": {},
   "outputs": [],
   "source": [
    "data = [5,6,7,8,9,10,11,12,17,21,25,27,35,37,42,45,50]\n",
    "target = 12"
   ]
  },
  {
   "cell_type": "markdown",
   "metadata": {},
   "source": [
    "#### linear search\n",
    "#### loop through each element and look for equals."
   ]
  },
  {
   "cell_type": "code",
   "execution_count": 2,
   "metadata": {},
   "outputs": [],
   "source": [
    "def linear_search(data, target):\n",
    "    for i in range(len(data)-1):\n",
    "        if data[i] == target:\n",
    "            return i, True\n",
    "    return False"
   ]
  },
  {
   "cell_type": "code",
   "execution_count": 3,
   "metadata": {},
   "outputs": [
    {
     "data": {
      "text/plain": [
       "(7, True)"
      ]
     },
     "execution_count": 3,
     "metadata": {},
     "output_type": "execute_result"
    }
   ],
   "source": [
    "linear_search(data, target)"
   ]
  },
  {
   "cell_type": "markdown",
   "metadata": {},
   "source": [
    "#### Binary search\n",
    "#### split the data in two parts and only look for the half where the target could be\n",
    "#### First look at iterative binary search"
   ]
  },
  {
   "cell_type": "code",
   "execution_count": 4,
   "metadata": {},
   "outputs": [],
   "source": [
    "def binary_search_iter(data, target):\n",
    "    low = 0\n",
    "    high= len(data)-1    \n",
    "    while low <=high:\n",
    "        mid = (high+low)//2\n",
    "        if target == data[mid]:\n",
    "            return True\n",
    "        elif target < data[mid]:\n",
    "            high = mid-1\n",
    "        else:\n",
    "            low = mid+1\n",
    "    return False"
   ]
  },
  {
   "cell_type": "code",
   "execution_count": 5,
   "metadata": {},
   "outputs": [
    {
     "data": {
      "text/plain": [
       "True"
      ]
     },
     "execution_count": 5,
     "metadata": {},
     "output_type": "execute_result"
    }
   ],
   "source": [
    "binary_search_iter(data, target)"
   ]
  },
  {
   "cell_type": "code",
   "execution_count": 6,
   "metadata": {},
   "outputs": [],
   "source": [
    "def binary_search_recur(data, target, low, high):\n",
    "    if low > high:\n",
    "        return False\n",
    "    else:\n",
    "        mid = (low+high)//2         \n",
    "        if target == data[mid]:\n",
    "            return True\n",
    "        elif target < data[mid]:\n",
    "            return binary_search_recur(data,target, low, mid-1)\n",
    "        else:\n",
    "            return binary_search_recur(data,target, mid+1, high)"
   ]
  },
  {
   "cell_type": "code",
   "execution_count": 7,
   "metadata": {},
   "outputs": [
    {
     "data": {
      "text/plain": [
       "True"
      ]
     },
     "execution_count": 7,
     "metadata": {},
     "output_type": "execute_result"
    }
   ],
   "source": [
    "binary_search_recur(data, target, 0, len(data)-1)"
   ]
  },
  {
   "cell_type": "code",
   "execution_count": 8,
   "metadata": {},
   "outputs": [],
   "source": [
    "#practice linear search:\n",
    "def lin_search(my_list,target):\n",
    "    for i in range(len(my_list)):\n",
    "        if my_list[i] == target:\n",
    "            return i,True\n",
    "    return False"
   ]
  },
  {
   "cell_type": "code",
   "execution_count": 9,
   "metadata": {},
   "outputs": [
    {
     "data": {
      "text/plain": [
       "(7, True)"
      ]
     },
     "execution_count": 9,
     "metadata": {},
     "output_type": "execute_result"
    }
   ],
   "source": [
    "lin_search(data,target)"
   ]
  },
  {
   "cell_type": "code",
   "execution_count": 12,
   "metadata": {},
   "outputs": [],
   "source": [
    "#practice binary search for a sorted list\n",
    "def bin_search(my_list, target):\n",
    "    min_idx = 0\n",
    "    max_idx = len(my_list)-1\n",
    "    \n",
    "    while min_idx <= max_idx:\n",
    "        print(min_idx, max_idx,min_idx)\n",
    "        mid_idx = (max_idx + min_idx)//2\n",
    "        if target == my_list[mid_idx]:\n",
    "            return True\n",
    "        elif  target < my_list[mid_idx]:\n",
    "            max_idx = mid_idx - 1\n",
    "        else:\n",
    "            min_idx = mid_idx + 1\n",
    "    \n",
    "    return False \n",
    "            "
   ]
  },
  {
   "cell_type": "code",
   "execution_count": 13,
   "metadata": {},
   "outputs": [
    {
     "name": "stdout",
     "output_type": "stream",
     "text": [
      "0 16 0\n",
      "0 7 0\n",
      "4 7 4\n",
      "6 7 6\n",
      "7 7 7\n"
     ]
    },
    {
     "data": {
      "text/plain": [
       "True"
      ]
     },
     "execution_count": 13,
     "metadata": {},
     "output_type": "execute_result"
    }
   ],
   "source": [
    "bin_search(data,target)"
   ]
  },
  {
   "cell_type": "code",
   "execution_count": 14,
   "metadata": {},
   "outputs": [],
   "source": [
    "#practice binary search recusrsive for a sorted list\n",
    "def bin_search_recus(my_list, target, low, high):\n",
    "    min_idx = low\n",
    "    max_idx = high\n",
    "    \n",
    "    if low > high:\n",
    "        return False\n",
    "    else:\n",
    "        mid_idx = (max_idx + min_idx)//2\n",
    "        if target == my_list[mid_idx]:\n",
    "            return True\n",
    "        elif  target < my_list[mid_idx]:\n",
    "            return bin_search_recus(my_list, target, low, mid_idx - 1)\n",
    "        else:\n",
    "            return bin_search_recus(my_list, target, mid_idx + 1,high)\n",
    "    \n",
    "    return False "
   ]
  },
  {
   "cell_type": "code",
   "execution_count": 16,
   "metadata": {},
   "outputs": [
    {
     "name": "stdout",
     "output_type": "stream",
     "text": [
      "0 16 0\n",
      "9 16 9\n",
      "13 16 13\n",
      "15 16 15\n",
      "16 16 16\n"
     ]
    },
    {
     "data": {
      "text/plain": [
       "False"
      ]
     },
     "execution_count": 16,
     "metadata": {},
     "output_type": "execute_result"
    }
   ],
   "source": [
    "bin_search(data,900)"
   ]
  },
  {
   "cell_type": "code",
   "execution_count": null,
   "metadata": {},
   "outputs": [],
   "source": []
  }
 ],
 "metadata": {
  "kernelspec": {
   "display_name": "Python 3",
   "language": "python",
   "name": "python3"
  },
  "language_info": {
   "codemirror_mode": {
    "name": "ipython",
    "version": 3
   },
   "file_extension": ".py",
   "mimetype": "text/x-python",
   "name": "python",
   "nbconvert_exporter": "python",
   "pygments_lexer": "ipython3",
   "version": "3.7.4"
  }
 },
 "nbformat": 4,
 "nbformat_minor": 2
}
